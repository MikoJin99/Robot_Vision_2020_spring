{
 "cells": [
  {
   "cell_type": "markdown",
   "metadata": {},
   "source": [
    "# Introduction of Numpy and Review of Linear Algebra"
   ]
  },
  {
   "cell_type": "markdown",
   "metadata": {},
   "source": [
    "Numpy is a scientific computing package or library in Python.\n",
    "\n",
    "The package is mainly focus on using a multidimensional array object (vector, matrix, and tensor) and computing the arrays. \n",
    "\n",
    "Mathematical, logical, shape manipulation, basic linear algebra, basic statistical operations and much more operations are provided in Numpy.\n",
    "\n",
    "In other words, It's a Python version of Matlab (and free!)\n",
    "\n",
    "\n",
    "#### This Ipython notebook will cover basic linear algebra with numpy examples"
   ]
  },
  {
   "cell_type": "markdown",
   "metadata": {},
   "source": [
    "To install Numpy on your computer please uncommend below cell and run it"
   ]
  },
  {
   "cell_type": "code",
   "execution_count": 1,
   "metadata": {},
   "outputs": [],
   "source": [
    "# !pip install numpy"
   ]
  },
  {
   "cell_type": "code",
   "execution_count": 2,
   "metadata": {},
   "outputs": [],
   "source": [
    "# To use numpy we need to import numpy\n",
    "import numpy as np"
   ]
  },
  {
   "cell_type": "markdown",
   "metadata": {},
   "source": [
    "#### What is Scalar, Vectors, Matrices and Tensor?\n",
    "- Scalar\n",
    "\n",
    "    A scalar is just a single number such as 1, 2, 5, or 10.5.\n",
    "    \n",
    "    We can make a int or flot varialbe as a Scalar\n"
   ]
  },
  {
   "cell_type": "code",
   "execution_count": 3,
   "metadata": {},
   "outputs": [],
   "source": [
    "Scalar = 3"
   ]
  },
  {
   "cell_type": "markdown",
   "metadata": {},
   "source": [
    "- Vectors\n",
    "    A vector is an array of numbers orders. The first element of vector **_x_**  is x<sub>1</sub>, the second element is x<sub>2</sub> and so on <br>\n",
    "    \n",
    "   The vector **_x_** is\n",
    "    $$\\begin{bmatrix} x_1 \\\\ x_2 \\\\ \\vdots \\\\ x_n \\end{bmatrix} \\tag{1}$$\n",
    "    \n"
   ]
  },
  {
   "cell_type": "markdown",
   "metadata": {},
   "source": [
    "Let's make a vector with numpy"
   ]
  },
  {
   "cell_type": "code",
   "execution_count": 4,
   "metadata": {},
   "outputs": [
    {
     "name": "stdout",
     "output_type": "stream",
     "text": [
      "[1 2 3]\n"
     ]
    }
   ],
   "source": [
    "Vector = np.array([1,2, 3 ])\n",
    "print(Vector)"
   ]
  },
  {
   "cell_type": "markdown",
   "metadata": {},
   "source": [
    "- A Matrix is a 2-D array of numbers. e.g\n",
    "    $$\\begin{bmatrix} x_{1,1} & x_{1,2} & x_{1,3} \\\\ x_{2,1} & x_{2,2} & x_{2,3}\\end{bmatrix} \\tag{2}$$\n",
    "\n"
   ]
  },
  {
   "cell_type": "markdown",
   "metadata": {},
   "source": [
    "An example of 2-D array with numpy"
   ]
  },
  {
   "cell_type": "code",
   "execution_count": 5,
   "metadata": {},
   "outputs": [
    {
     "name": "stdout",
     "output_type": "stream",
     "text": [
      "[[1 2]\n",
      " [3 4]\n",
      " [5 6]]\n"
     ]
    }
   ],
   "source": [
    "Matrix = np.array([[1,2],[3,4],[5,6]])\n",
    "print(Matrix)"
   ]
  },
  {
   "cell_type": "markdown",
   "metadata": {},
   "source": [
    "- A Tensor is an array that has more than two axes.\n"
   ]
  },
  {
   "cell_type": "markdown",
   "metadata": {},
   "source": [
    "An example of 3-D array with numpy"
   ]
  },
  {
   "cell_type": "code",
   "execution_count": 6,
   "metadata": {},
   "outputs": [
    {
     "name": "stdout",
     "output_type": "stream",
     "text": [
      "[[[ 1  2]\n",
      "  [ 3  4]\n",
      "  [ 5  6]]\n",
      "\n",
      " [[ 7  8]\n",
      "  [ 9 10]\n",
      "  [11 12]]]\n"
     ]
    }
   ],
   "source": [
    "Tensor = np.array([[[1,2],[3,4],[5,6]],\n",
    "                   [[7,8],[9,10],[11,12]]])\n",
    "print(Tensor)"
   ]
  },
  {
   "cell_type": "markdown",
   "metadata": {},
   "source": [
    "Useful Matrix Constructors\n",
    "\n",
    "We can construct some special matrix with numpy such as all elements are zeros, ones, or particular number, and the identity matrix"
   ]
  },
  {
   "cell_type": "code",
   "execution_count": 7,
   "metadata": {},
   "outputs": [
    {
     "name": "stdout",
     "output_type": "stream",
     "text": [
      "2 x 2 matrix with zeros \n",
      " [[0. 0.]\n",
      " [0. 0.]]\n",
      "2 x 2 matrix with ones \n",
      " [[1. 1.]\n",
      " [1. 1.]]\n",
      "2 x 2 matrix with 7 \n",
      " [[7 7]\n",
      " [7 7]]\n",
      "2 x 2 identity matrix \n",
      " [[1. 0.]\n",
      " [0. 1.]]\n"
     ]
    }
   ],
   "source": [
    "print(\"2 x 2 matrix with zeros \\n\", np.zeros((2,2)))\n",
    "print(\"2 x 2 matrix with ones \\n\",np.ones((2,2)))\n",
    "print(\"2 x 2 matrix with 7 \\n\", np.full((2,2), 7))\n",
    "print(\"2 x 2 identity matrix \\n\", np.eye(2))\n"
   ]
  },
  {
   "cell_type": "markdown",
   "metadata": {},
   "source": [
    "Array Math"
   ]
  },
  {
   "cell_type": "code",
   "execution_count": 8,
   "metadata": {},
   "outputs": [],
   "source": [
    "x = np.array([[1, 2],[3, 4]], dtype=np.int)\n",
    "y = np.array([[5, 6],[7, 8]], dtype=np.float32)"
   ]
  },
  {
   "cell_type": "code",
   "execution_count": 9,
   "metadata": {},
   "outputs": [
    {
     "name": "stdout",
     "output_type": "stream",
     "text": [
      "[[ 6.  8.]\n",
      " [10. 12.]]\n",
      "[[ 6.  8.]\n",
      " [10. 12.]]\n"
     ]
    }
   ],
   "source": [
    "# Elementwise sum\n",
    "print(x + y)\n",
    "print(np.add(x, y))"
   ]
  },
  {
   "cell_type": "code",
   "execution_count": 10,
   "metadata": {},
   "outputs": [
    {
     "name": "stdout",
     "output_type": "stream",
     "text": [
      "[[-4. -4.]\n",
      " [-4. -4.]]\n",
      "[[-4. -4.]\n",
      " [-4. -4.]]\n"
     ]
    }
   ],
   "source": [
    "# Elementwise difference;\n",
    "print(x - y)\n",
    "print(np.subtract(x, y))"
   ]
  },
  {
   "cell_type": "code",
   "execution_count": 11,
   "metadata": {},
   "outputs": [
    {
     "name": "stdout",
     "output_type": "stream",
     "text": [
      "[[ 5. 12.]\n",
      " [21. 32.]]\n",
      "[[ 5. 12.]\n",
      " [21. 32.]]\n"
     ]
    }
   ],
   "source": [
    "# Elementwise product;\n",
    "print(x * y)\n",
    "print(np.multiply(x, y))"
   ]
  },
  {
   "cell_type": "code",
   "execution_count": 12,
   "metadata": {},
   "outputs": [
    {
     "name": "stdout",
     "output_type": "stream",
     "text": [
      "[[0.2        0.33333333]\n",
      " [0.42857143 0.5       ]]\n",
      "[[0.2        0.33333333]\n",
      " [0.42857143 0.5       ]]\n"
     ]
    }
   ],
   "source": [
    "# Elementwise division;\n",
    "print(x / y)\n",
    "print(np.divide(x, y))"
   ]
  },
  {
   "cell_type": "code",
   "execution_count": 13,
   "metadata": {},
   "outputs": [
    {
     "name": "stdout",
     "output_type": "stream",
     "text": [
      "[[1.         1.41421356]\n",
      " [1.73205081 2.        ]]\n"
     ]
    }
   ],
   "source": [
    "# Elementwise square root;\n",
    "print(np.sqrt(x))"
   ]
  },
  {
   "cell_type": "markdown",
   "metadata": {},
   "source": [
    "#### The dot and cross product"
   ]
  },
  {
   "cell_type": "markdown",
   "metadata": {},
   "source": [
    "Let u as a vector and M as a 3 x 3 Matrix"
   ]
  },
  {
   "cell_type": "code",
   "execution_count": 14,
   "metadata": {},
   "outputs": [
    {
     "name": "stdout",
     "output_type": "stream",
     "text": [
      "[[0.63624784 0.46267602 0.88561099 0.48392408]\n",
      " [0.71154441 0.78145191 0.78005536 0.44685288]\n",
      " [0.69464154 0.87950164 0.73650787 0.50314767]]\n"
     ]
    }
   ],
   "source": [
    "u = np.array([1,2,3])\n",
    "M = np.random.rand(3, 4)\n",
    "M_1 = np.random.rand(3, 3)\n",
    "M_2 = np.random.rand(3, 3)\n",
    "print(M)"
   ]
  },
  {
   "cell_type": "markdown",
   "metadata": {},
   "source": [
    "The dot product of two vectors will yield a scalar.\n",
    "The dot product of two matrices will yield a matrix.\n",
    "\n",
    "The dot product of vecotrs should have the same shape.\n",
    "The dot product of matrix should match the number of columns in the first matrix and the number of rows in the second matrix. <br>\n",
    "To match the two numbers we can transpose Matrix\n",
    "\n",
    "\n",
    "Dot product of (3,2) and (2,3) and it will yield (3,3) Matrix"
   ]
  },
  {
   "cell_type": "code",
   "execution_count": 15,
   "metadata": {},
   "outputs": [
    {
     "name": "stdout",
     "output_type": "stream",
     "text": [
      "dot product of u \n",
      " 14\n",
      "Transpose of the M shape is \n",
      " (4, 3)\n",
      "dot product of M and M.T \n",
      " [[1.63736976 1.72134612 1.74463323]\n",
      " [1.72134612 1.9251264  1.98090643]\n",
      " [1.74463323 1.98090643 2.05165141]]\n"
     ]
    }
   ],
   "source": [
    "print(\"dot product of u \\n\", np.dot(u, u.T))\n",
    "print(\"Transpose of the M shape is \\n\", M.T.shape)\n",
    "print(\"dot product of M and M.T \\n\", np.dot(M, M.T))"
   ]
  },
  {
   "cell_type": "markdown",
   "metadata": {},
   "source": [
    "Cross Product <br>\n",
    "\n",
    "Please note Cross product of A and B $\\neq$ Cross product of B and A"
   ]
  },
  {
   "cell_type": "code",
   "execution_count": 16,
   "metadata": {},
   "outputs": [
    {
     "name": "stdout",
     "output_type": "stream",
     "text": [
      "Cross product of M_1 and M_2 \n",
      " [[-0.39128168  0.1304457   0.48449931]\n",
      " [-0.27651887  0.2900005  -0.09035968]\n",
      " [ 0.63831773  0.00369058 -0.32752032]]\n",
      "Cross product of M_2 and M_1 \n",
      " [[ 0.39128168 -0.1304457  -0.48449931]\n",
      " [ 0.27651887 -0.2900005   0.09035968]\n",
      " [-0.63831773 -0.00369058  0.32752032]]\n"
     ]
    }
   ],
   "source": [
    "print(\"Cross product of M_1 and M_2 \\n\", np.cross(M_1, M_2))\n",
    "print(\"Cross product of M_2 and M_1 \\n\", np.cross(M_2, M_1))"
   ]
  },
  {
   "cell_type": "markdown",
   "metadata": {},
   "source": [
    "### Determenant\n",
    "\n",
    "2 x 2 matrix\n",
    "\n",
    "$$det \\begin{bmatrix} a & b \\\\ c & d  \\\\\\end{bmatrix}  = ad- bc$$\n",
    "\n",
    "3 x 3 matrix\n",
    "\n",
    "$$det \\begin{bmatrix}a & b & c \\\\ d & e & f \\\\ g & h & i \\end{bmatrix}  = a \\cdot \\begin {vmatrix} e & f \\\\ g & h \\end{vmatrix} - b \\cdot \\begin {vmatrix} d & f \\\\ g &i \\end{vmatrix} + c \\cdot \\begin{vmatrix} d & e \\\\ g & h \\end{vmatrix} $$\n",
    "\n",
    "In numpy let's use numpy.linalg library"
   ]
  },
  {
   "cell_type": "code",
   "execution_count": 23,
   "metadata": {},
   "outputs": [
    {
     "name": "stdout",
     "output_type": "stream",
     "text": [
      "M_1 : \n",
      " [[0.96398472 0.51103789 0.64092323]\n",
      " [0.05665529 0.15903573 0.33703289]\n",
      " [0.06150979 0.75885387 0.12842989]]\n",
      "determinant of M_1 is -0.19869676141617124\n"
     ]
    }
   ],
   "source": [
    "print(\"M_1 : \\n\", M_1)\n",
    "\n",
    "print(\"determinant of M_1 is\", np.linalg.det(M_1))"
   ]
  },
  {
   "cell_type": "markdown",
   "metadata": {},
   "source": [
    "### Inverse\n",
    "M_1<sup>-1</sup>M_1 = I <br>\n",
    "Where I is Identity Matrix <br>\n",
    "\n",
    "In numpy you can use np.linalg.inv(M_1)"
   ]
  },
  {
   "cell_type": "code",
   "execution_count": 24,
   "metadata": {},
   "outputs": [
    {
     "name": "stdout",
     "output_type": "stream",
     "text": [
      "[[ 1.18438656 -2.11747051 -0.3538401 ]\n",
      " [-0.06771419 -0.42467427  1.45237831]\n",
      " [-0.16714331  3.52340772 -0.62585325]]\n"
     ]
    }
   ],
   "source": [
    "print(np.linalg.inv(M_1))"
   ]
  },
  {
   "cell_type": "markdown",
   "metadata": {},
   "source": [
    "##### What if the matrix is not a square matirx? <br>\n",
    "Use the psuedo inverse function\n",
    "\n",
    "np.linagle.pinv()"
   ]
  },
  {
   "cell_type": "code",
   "execution_count": 26,
   "metadata": {},
   "outputs": [
    {
     "data": {
      "text/plain": [
       "array([[ -1.65020616,   8.11948112,  -6.09766662],\n",
       "       [ -1.89643362,   0.17573368,   1.87164874],\n",
       "       [  1.24506233,   1.8391808 ,  -2.47552498],\n",
       "       [  3.77070217, -14.20906519,  10.75791134]])"
      ]
     },
     "execution_count": 26,
     "metadata": {},
     "output_type": "execute_result"
    }
   ],
   "source": [
    "np.linalg.pinv(M)"
   ]
  },
  {
   "cell_type": "markdown",
   "metadata": {},
   "source": [
    "## Solve Ax = b\n",
    "\n",
    "using numpy.linalg.solve() function\n",
    "\n",
    "$$\\begin{bmatrix}1 & 1 & 1 \\\\0 & 2 & 5 \\\\2 & 5 & -1\\end{bmatrix} \\begin{bmatrix}x \\\\y \\\\z \\end{bmatrix} = \\begin{bmatrix}6 \\\\-4 \\\\27 \\end{bmatrix}$$\n",
    "If these three matrices are called A, X and B. Then The X = A<sup>-1</sup>B\n"
   ]
  },
  {
   "cell_type": "code",
   "execution_count": 17,
   "metadata": {},
   "outputs": [],
   "source": [
    "A = np.array([[1,1,1], [0,2,5], [2,5,-1]])\n",
    "B = np.array([6,-4,27]).T"
   ]
  },
  {
   "cell_type": "code",
   "execution_count": 18,
   "metadata": {},
   "outputs": [
    {
     "data": {
      "text/plain": [
       "array([ 5.,  3., -2.])"
      ]
     },
     "execution_count": 18,
     "metadata": {},
     "output_type": "execute_result"
    }
   ],
   "source": [
    "np.inner(np.linalg.inv(A), B)"
   ]
  },
  {
   "cell_type": "code",
   "execution_count": 19,
   "metadata": {},
   "outputs": [
    {
     "data": {
      "text/plain": [
       "array([ 5.,  3., -2.])"
      ]
     },
     "execution_count": 19,
     "metadata": {},
     "output_type": "execute_result"
    }
   ],
   "source": [
    "# Let's try using numpy.linagl.solve()\n",
    "np.linalg.solve(A, B)"
   ]
  }
 ],
 "metadata": {
  "kernelspec": {
   "display_name": "Python 3",
   "language": "python",
   "name": "python3"
  },
  "language_info": {
   "codemirror_mode": {
    "name": "ipython",
    "version": 3
   },
   "file_extension": ".py",
   "mimetype": "text/x-python",
   "name": "python",
   "nbconvert_exporter": "python",
   "pygments_lexer": "ipython3",
   "version": "3.7.3"
  }
 },
 "nbformat": 4,
 "nbformat_minor": 4
}
