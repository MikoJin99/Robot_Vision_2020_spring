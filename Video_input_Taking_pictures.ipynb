{
 "cells": [
  {
   "cell_type": "code",
   "execution_count": 12,
   "metadata": {},
   "outputs": [],
   "source": [
    "import cv2\n",
    "import numpy as np"
   ]
  },
  {
   "cell_type": "code",
   "execution_count": 13,
   "metadata": {},
   "outputs": [],
   "source": [
    "def playing_video(path):\n",
    "    video_path = path\n",
    "    # Create a VideoCapture object and read from input file\n",
    "    cap = cv2.VideoCapture(video_path)\n",
    "\n",
    "\n",
    "    # Check if camera opened successfully\n",
    "    if (cap.isOpened()== False):     \n",
    "        print(\"Error opening video stream or file\")\n",
    "\n",
    "\n",
    "    # Read until video is completed\n",
    "    while(cap.isOpened()):\n",
    "\n",
    "        # Capture frame-by-frame\n",
    "        ret, frame = cap.read()\n",
    "        if ret == True:\n",
    "            cv2.imshow('Frame',frame)\n",
    "\n",
    "            if cv2.waitKey(20) & 0xFF == 27: # when ESC is pressed it end\n",
    "                break \n",
    "\n",
    "        # Break the loop\n",
    "        else:\n",
    "            break\n",
    "    # When everything done, release the video capture object\n",
    "    cap.release()\n",
    "    # Closes all the frames\n",
    "    cv2.destroyAllWindows()\n",
    "    \n",
    "    return"
   ]
  },
  {
   "cell_type": "code",
   "execution_count": 14,
   "metadata": {},
   "outputs": [],
   "source": [
    "path = './data/SampleVideo_1280x720_1mb.mp4'"
   ]
  },
  {
   "cell_type": "code",
   "execution_count": 15,
   "metadata": {},
   "outputs": [],
   "source": [
    "playing_video(path)"
   ]
  },
  {
   "cell_type": "code",
   "execution_count": 16,
   "metadata": {},
   "outputs": [],
   "source": [
    "def taking_pic():\n",
    "    cv2.namedWindow(\"preview\")\n",
    "    cap = cv2.VideoCapture(0)\n",
    "\n",
    "    if not (cap.isOpened()):\n",
    "\n",
    "        print( \"Could not open video device\")\n",
    "\n",
    "    if cap.isOpened(): # try to get the first frame\n",
    "        rval, frame = cap.read()\n",
    "    else:\n",
    "        rval = False\n",
    "\n",
    "    img_counter = 0\n",
    "    \n",
    "    ## hit space for taking a pic, hit ESC key to close the windows\n",
    "    while rval:\n",
    "        cv2.imshow(\"preview\", frame)\n",
    "        rval, frame = cap.read()\n",
    "        key = cv2.waitKey(20)\n",
    "        if key == 27: # exit on ESC\n",
    "            break\n",
    "\n",
    "        elif key == 32:\n",
    "            # SPACE pressed\n",
    "            img_name = \"Tag_coordinate_{}.png\".format(img_counter)\n",
    "            cv2.imwrite(img_name, frame)\n",
    "            print(\"{} written!\".format(img_name))\n",
    "            img_counter += 1\n",
    "\n",
    "    cap.release()\n",
    "    cv2.destroyWindow(\"preview\")\n",
    "    \n",
    "    return"
   ]
  },
  {
   "cell_type": "code",
   "execution_count": 8,
   "metadata": {},
   "outputs": [],
   "source": [
    "taking_pic()"
   ]
  },
  {
   "cell_type": "code",
   "execution_count": 50,
   "metadata": {},
   "outputs": [],
   "source": [
    "def playing_webcam():\n",
    "    cap = cv2.VideoCapture(0)\n",
    "\n",
    "\n",
    "    # Check if camera opened successfully\n",
    "    if (cap.isOpened()== False):     \n",
    "        print(\"Error opening video stream or file\")\n",
    "\n",
    "\n",
    "    # Read until video is completed\n",
    "    while(cap.isOpened()):\n",
    "\n",
    "        # Capture frame-by-frame\n",
    "        ret, frame = cap.read()\n",
    "        if ret == True:\n",
    "            cv2.imshow('Frame',frame)\n",
    "            \n",
    "\n",
    "            if cv2.waitKey(20) & 0xFF == 27: # when ESC is pressed it end\n",
    "                break \n",
    "\n",
    "        # Break the loop\n",
    "        else:\n",
    "            break\n",
    "    # When everything done, release the video capture object\n",
    "    cap.release()\n",
    "    # Closes all the frames\n",
    "    cv2.destroyAllWindows()\n",
    "    \n",
    "    return"
   ]
  },
  {
   "cell_type": "code",
   "execution_count": 51,
   "metadata": {},
   "outputs": [],
   "source": [
    "playing_webcam()"
   ]
  }
 ],
 "metadata": {
  "kernelspec": {
   "display_name": "Python 3",
   "language": "python",
   "name": "python3"
  },
  "language_info": {
   "codemirror_mode": {
    "name": "ipython",
    "version": 3
   },
   "file_extension": ".py",
   "mimetype": "text/x-python",
   "name": "python",
   "nbconvert_exporter": "python",
   "pygments_lexer": "ipython3",
   "version": "3.7.3"
  }
 },
 "nbformat": 4,
 "nbformat_minor": 4
}
